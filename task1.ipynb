{
  "nbformat": 4,
  "nbformat_minor": 0,
  "metadata": {
    "colab": {
      "provenance": []
    },
    "kernelspec": {
      "name": "python3",
      "display_name": "Python 3"
    },
    "language_info": {
      "name": "python"
    }
  },
  "cells": [
    {
      "cell_type": "code",
      "execution_count": null,
      "metadata": {
        "id": "FIk7K8XdVybe"
      },
      "outputs": [],
      "source": []
    },
    {
      "cell_type": "code",
      "source": [
        "# ✅ Works in Google Colab — No need to download Spark manually!\n",
        "!pip install -q pyspark\n",
        "\n",
        "from pyspark.sql import SparkSession\n",
        "\n",
        "# Start Spark session\n",
        "spark = SparkSession.builder.appName(\"CODTECH_PySpark\").getOrCreate()\n",
        "\n",
        "# Confirm it works by showing a simple range\n",
        "spark.range(5).show()\n"
      ],
      "metadata": {
        "colab": {
          "base_uri": "https://localhost:8080/"
        },
        "id": "aPYCVYJDT9g1",
        "outputId": "33ffd1bd-b943-44de-a3ba-ca79e1895b04"
      },
      "execution_count": 1,
      "outputs": [
        {
          "output_type": "stream",
          "name": "stdout",
          "text": [
            "+---+\n",
            "| id|\n",
            "+---+\n",
            "|  0|\n",
            "|  1|\n",
            "|  2|\n",
            "|  3|\n",
            "|  4|\n",
            "+---+\n",
            "\n"
          ]
        }
      ]
    },
    {
      "cell_type": "code",
      "source": [],
      "metadata": {
        "id": "hHwUYVg_WE7W"
      },
      "execution_count": null,
      "outputs": []
    },
    {
      "cell_type": "code",
      "source": [
        "from google.colab import files\n",
        "files.upload()\n"
      ],
      "metadata": {
        "colab": {
          "base_uri": "https://localhost:8080/",
          "height": 559
        },
        "id": "wk5wrbSNT_6K",
        "outputId": "cc6e7545-48f8-45dd-8266-8c1b37b9b9b7"
      },
      "execution_count": 2,
      "outputs": [
        {
          "output_type": "display_data",
          "data": {
            "text/plain": [
              "<IPython.core.display.HTML object>"
            ],
            "text/html": [
              "\n",
              "     <input type=\"file\" id=\"files-dc67f1b3-e779-444c-93d4-36bf616d1a54\" name=\"files[]\" multiple disabled\n",
              "        style=\"border:none\" />\n",
              "     <output id=\"result-dc67f1b3-e779-444c-93d4-36bf616d1a54\">\n",
              "      Upload widget is only available when the cell has been executed in the\n",
              "      current browser session. Please rerun this cell to enable.\n",
              "      </output>\n",
              "      <script>// Copyright 2017 Google LLC\n",
              "//\n",
              "// Licensed under the Apache License, Version 2.0 (the \"License\");\n",
              "// you may not use this file except in compliance with the License.\n",
              "// You may obtain a copy of the License at\n",
              "//\n",
              "//      http://www.apache.org/licenses/LICENSE-2.0\n",
              "//\n",
              "// Unless required by applicable law or agreed to in writing, software\n",
              "// distributed under the License is distributed on an \"AS IS\" BASIS,\n",
              "// WITHOUT WARRANTIES OR CONDITIONS OF ANY KIND, either express or implied.\n",
              "// See the License for the specific language governing permissions and\n",
              "// limitations under the License.\n",
              "\n",
              "/**\n",
              " * @fileoverview Helpers for google.colab Python module.\n",
              " */\n",
              "(function(scope) {\n",
              "function span(text, styleAttributes = {}) {\n",
              "  const element = document.createElement('span');\n",
              "  element.textContent = text;\n",
              "  for (const key of Object.keys(styleAttributes)) {\n",
              "    element.style[key] = styleAttributes[key];\n",
              "  }\n",
              "  return element;\n",
              "}\n",
              "\n",
              "// Max number of bytes which will be uploaded at a time.\n",
              "const MAX_PAYLOAD_SIZE = 100 * 1024;\n",
              "\n",
              "function _uploadFiles(inputId, outputId) {\n",
              "  const steps = uploadFilesStep(inputId, outputId);\n",
              "  const outputElement = document.getElementById(outputId);\n",
              "  // Cache steps on the outputElement to make it available for the next call\n",
              "  // to uploadFilesContinue from Python.\n",
              "  outputElement.steps = steps;\n",
              "\n",
              "  return _uploadFilesContinue(outputId);\n",
              "}\n",
              "\n",
              "// This is roughly an async generator (not supported in the browser yet),\n",
              "// where there are multiple asynchronous steps and the Python side is going\n",
              "// to poll for completion of each step.\n",
              "// This uses a Promise to block the python side on completion of each step,\n",
              "// then passes the result of the previous step as the input to the next step.\n",
              "function _uploadFilesContinue(outputId) {\n",
              "  const outputElement = document.getElementById(outputId);\n",
              "  const steps = outputElement.steps;\n",
              "\n",
              "  const next = steps.next(outputElement.lastPromiseValue);\n",
              "  return Promise.resolve(next.value.promise).then((value) => {\n",
              "    // Cache the last promise value to make it available to the next\n",
              "    // step of the generator.\n",
              "    outputElement.lastPromiseValue = value;\n",
              "    return next.value.response;\n",
              "  });\n",
              "}\n",
              "\n",
              "/**\n",
              " * Generator function which is called between each async step of the upload\n",
              " * process.\n",
              " * @param {string} inputId Element ID of the input file picker element.\n",
              " * @param {string} outputId Element ID of the output display.\n",
              " * @return {!Iterable<!Object>} Iterable of next steps.\n",
              " */\n",
              "function* uploadFilesStep(inputId, outputId) {\n",
              "  const inputElement = document.getElementById(inputId);\n",
              "  inputElement.disabled = false;\n",
              "\n",
              "  const outputElement = document.getElementById(outputId);\n",
              "  outputElement.innerHTML = '';\n",
              "\n",
              "  const pickedPromise = new Promise((resolve) => {\n",
              "    inputElement.addEventListener('change', (e) => {\n",
              "      resolve(e.target.files);\n",
              "    });\n",
              "  });\n",
              "\n",
              "  const cancel = document.createElement('button');\n",
              "  inputElement.parentElement.appendChild(cancel);\n",
              "  cancel.textContent = 'Cancel upload';\n",
              "  const cancelPromise = new Promise((resolve) => {\n",
              "    cancel.onclick = () => {\n",
              "      resolve(null);\n",
              "    };\n",
              "  });\n",
              "\n",
              "  // Wait for the user to pick the files.\n",
              "  const files = yield {\n",
              "    promise: Promise.race([pickedPromise, cancelPromise]),\n",
              "    response: {\n",
              "      action: 'starting',\n",
              "    }\n",
              "  };\n",
              "\n",
              "  cancel.remove();\n",
              "\n",
              "  // Disable the input element since further picks are not allowed.\n",
              "  inputElement.disabled = true;\n",
              "\n",
              "  if (!files) {\n",
              "    return {\n",
              "      response: {\n",
              "        action: 'complete',\n",
              "      }\n",
              "    };\n",
              "  }\n",
              "\n",
              "  for (const file of files) {\n",
              "    const li = document.createElement('li');\n",
              "    li.append(span(file.name, {fontWeight: 'bold'}));\n",
              "    li.append(span(\n",
              "        `(${file.type || 'n/a'}) - ${file.size} bytes, ` +\n",
              "        `last modified: ${\n",
              "            file.lastModifiedDate ? file.lastModifiedDate.toLocaleDateString() :\n",
              "                                    'n/a'} - `));\n",
              "    const percent = span('0% done');\n",
              "    li.appendChild(percent);\n",
              "\n",
              "    outputElement.appendChild(li);\n",
              "\n",
              "    const fileDataPromise = new Promise((resolve) => {\n",
              "      const reader = new FileReader();\n",
              "      reader.onload = (e) => {\n",
              "        resolve(e.target.result);\n",
              "      };\n",
              "      reader.readAsArrayBuffer(file);\n",
              "    });\n",
              "    // Wait for the data to be ready.\n",
              "    let fileData = yield {\n",
              "      promise: fileDataPromise,\n",
              "      response: {\n",
              "        action: 'continue',\n",
              "      }\n",
              "    };\n",
              "\n",
              "    // Use a chunked sending to avoid message size limits. See b/62115660.\n",
              "    let position = 0;\n",
              "    do {\n",
              "      const length = Math.min(fileData.byteLength - position, MAX_PAYLOAD_SIZE);\n",
              "      const chunk = new Uint8Array(fileData, position, length);\n",
              "      position += length;\n",
              "\n",
              "      const base64 = btoa(String.fromCharCode.apply(null, chunk));\n",
              "      yield {\n",
              "        response: {\n",
              "          action: 'append',\n",
              "          file: file.name,\n",
              "          data: base64,\n",
              "        },\n",
              "      };\n",
              "\n",
              "      let percentDone = fileData.byteLength === 0 ?\n",
              "          100 :\n",
              "          Math.round((position / fileData.byteLength) * 100);\n",
              "      percent.textContent = `${percentDone}% done`;\n",
              "\n",
              "    } while (position < fileData.byteLength);\n",
              "  }\n",
              "\n",
              "  // All done.\n",
              "  yield {\n",
              "    response: {\n",
              "      action: 'complete',\n",
              "    }\n",
              "  };\n",
              "}\n",
              "\n",
              "scope.google = scope.google || {};\n",
              "scope.google.colab = scope.google.colab || {};\n",
              "scope.google.colab._files = {\n",
              "  _uploadFiles,\n",
              "  _uploadFilesContinue,\n",
              "};\n",
              "})(self);\n",
              "</script> "
            ]
          },
          "metadata": {}
        },
        {
          "output_type": "stream",
          "name": "stdout",
          "text": [
            "Saving hw_200 (1).csv to hw_200 (1).csv\n"
          ]
        },
        {
          "output_type": "execute_result",
          "data": {
            "text/plain": [
              "{'hw_200 (1).csv': b'\"Index\", Height(Inches)\", \"Weight(Pounds)\"\\n1, 65.78, 112.99\\n2, 71.52, 136.49\\n3, 69.40, 153.03\\n4, 68.22, 142.34\\n5, 67.79, 144.30\\n6, 68.70, 123.30\\n7, 69.80, 141.49\\n8, 70.01, 136.46\\n9, 67.90, 112.37\\n10, 66.78, 120.67\\n11, 66.49, 127.45\\n12, 67.62, 114.14\\n13, 68.30, 125.61\\n14, 67.12, 122.46\\n15, 68.28, 116.09\\n16, 71.09, 140.00\\n17, 66.46, 129.50\\n18, 68.65, 142.97\\n19, 71.23, 137.90\\n20, 67.13, 124.04\\n21, 67.83, 141.28\\n22, 68.88, 143.54\\n23, 63.48, 97.90\\n24, 68.42, 129.50\\n25, 67.63, 141.85\\n26, 67.21, 129.72\\n27, 70.84, 142.42\\n28, 67.49, 131.55\\n29, 66.53, 108.33\\n30, 65.44, 113.89\\n31, 69.52, 103.30\\n32, 65.81, 120.75\\n33, 67.82, 125.79\\n34, 70.60, 136.22\\n35, 71.80, 140.10\\n36, 69.21, 128.75\\n37, 66.80, 141.80\\n38, 67.66, 121.23\\n39, 67.81, 131.35\\n40, 64.05, 106.71\\n41, 68.57, 124.36\\n42, 65.18, 124.86\\n43, 69.66, 139.67\\n44, 67.97, 137.37\\n45, 65.98, 106.45\\n46, 68.67, 128.76\\n47, 66.88, 145.68\\n48, 67.70, 116.82\\n49, 69.82, 143.62\\n50, 69.09, 134.93\\n51, 69.91, 147.02\\n52, 67.33, 126.33\\n53, 70.27, 125.48\\n54, 69.10, 115.71\\n55, 65.38, 123.49\\n56, 70.18, 147.89\\n57, 70.41, 155.90\\n58, 66.54, 128.07\\n59, 66.36, 119.37\\n60, 67.54, 133.81\\n61, 66.50, 128.73\\n62, 69.00, 137.55\\n63, 68.30, 129.76\\n64, 67.01, 128.82\\n65, 70.81, 135.32\\n66, 68.22, 109.61\\n67, 69.06, 142.47\\n68, 67.73, 132.75\\n69, 67.22, 103.53\\n70, 67.37, 124.73\\n71, 65.27, 129.31\\n72, 70.84, 134.02\\n73, 69.92, 140.40\\n74, 64.29, 102.84\\n75, 68.25, 128.52\\n76, 66.36, 120.30\\n77, 68.36, 138.60\\n78, 65.48, 132.96\\n79, 69.72, 115.62\\n80, 67.73, 122.52\\n81, 68.64, 134.63\\n82, 66.78, 121.90\\n83, 70.05, 155.38\\n84, 66.28, 128.94\\n85, 69.20, 129.10\\n86, 69.13, 139.47\\n87, 67.36, 140.89\\n88, 70.09, 131.59\\n89, 70.18, 121.12\\n90, 68.23, 131.51\\n91, 68.13, 136.55\\n92, 70.24, 141.49\\n93, 71.49, 140.61\\n94, 69.20, 112.14\\n95, 70.06, 133.46\\n96, 70.56, 131.80\\n97, 66.29, 120.03\\n98, 63.43, 123.10\\n99, 66.77, 128.14\\n100, 68.89, 115.48\\n101, 64.87, 102.09\\n102, 67.09, 130.35\\n103, 68.35, 134.18\\n104, 65.61, 98.64\\n105, 67.76, 114.56\\n106, 68.02, 123.49\\n107, 67.66, 123.05\\n108, 66.31, 126.48\\n109, 69.44, 128.42\\n110, 63.84, 127.19\\n111, 67.72, 122.06\\n112, 70.05, 127.61\\n113, 70.19, 131.64\\n114, 65.95, 111.90\\n115, 70.01, 122.04\\n116, 68.61, 128.55\\n117, 68.81, 132.68\\n118, 69.76, 136.06\\n119, 65.46, 115.94\\n120, 68.83, 136.90\\n121, 65.80, 119.88\\n122, 67.21, 109.01\\n123, 69.42, 128.27\\n124, 68.94, 135.29\\n125, 67.94, 106.86\\n126, 65.63, 123.29\\n127, 66.50, 109.51\\n128, 67.93, 119.31\\n129, 68.89, 140.24\\n130, 70.24, 133.98\\n131, 68.27, 132.58\\n132, 71.23, 130.70\\n133, 69.10, 115.56\\n134, 64.40, 123.79\\n135, 71.10, 128.14\\n136, 68.22, 135.96\\n137, 65.92, 116.63\\n138, 67.44, 126.82\\n139, 73.90, 151.39\\n140, 69.98, 130.40\\n141, 69.52, 136.21\\n142, 65.18, 113.40\\n143, 68.01, 125.33\\n144, 68.34, 127.58\\n145, 65.18, 107.16\\n146, 68.26, 116.46\\n147, 68.57, 133.84\\n148, 64.50, 112.89\\n149, 68.71, 130.76\\n150, 68.89, 137.76\\n151, 69.54, 125.40\\n152, 67.40, 138.47\\n153, 66.48, 120.82\\n154, 66.01, 140.15\\n155, 72.44, 136.74\\n156, 64.13, 106.11\\n157, 70.98, 158.96\\n158, 67.50, 108.79\\n159, 72.02, 138.78\\n160, 65.31, 115.91\\n161, 67.08, 146.29\\n162, 64.39, 109.88\\n163, 69.37, 139.05\\n164, 68.38, 119.90\\n165, 65.31, 128.31\\n166, 67.14, 127.24\\n167, 68.39, 115.23\\n168, 66.29, 124.80\\n169, 67.19, 126.95\\n170, 65.99, 111.27\\n171, 69.43, 122.61\\n172, 67.97, 124.21\\n173, 67.76, 124.65\\n174, 65.28, 119.52\\n175, 73.83, 139.30\\n176, 66.81, 104.83\\n177, 66.89, 123.04\\n178, 65.74, 118.89\\n179, 65.98, 121.49\\n180, 66.58, 119.25\\n181, 67.11, 135.02\\n182, 65.87, 116.23\\n183, 66.78, 109.17\\n184, 68.74, 124.22\\n185, 66.23, 141.16\\n186, 65.96, 129.15\\n187, 68.58, 127.87\\n188, 66.59, 120.92\\n189, 66.97, 127.65\\n190, 68.08, 101.47\\n191, 70.19, 144.99\\n192, 65.52, 110.95\\n193, 67.46, 132.86\\n194, 67.41, 146.34\\n195, 69.66, 145.59\\n196, 65.80, 120.84\\n197, 66.11, 115.78\\n198, 68.24, 128.30\\n199, 68.02, 127.47\\n200, 71.39, 127.88 \\n'}"
            ]
          },
          "metadata": {},
          "execution_count": 2
        }
      ]
    },
    {
      "cell_type": "code",
      "source": [],
      "metadata": {
        "id": "dXyL0PnSWQ4n"
      },
      "execution_count": null,
      "outputs": []
    },
    {
      "cell_type": "code",
      "source": [
        "df = spark.read.csv(\"hw_200 (1).csv\", header=True, inferSchema=True)\n",
        "df.show(5)\n",
        "df.printSchema()\n",
        "print(\"Total rows:\", df.count())"
      ],
      "metadata": {
        "colab": {
          "base_uri": "https://localhost:8080/"
        },
        "id": "8dBkIf-dUbLv",
        "outputId": "d4039bd3-ba5f-48c0-94a1-ba94c234f47b"
      },
      "execution_count": 3,
      "outputs": [
        {
          "output_type": "stream",
          "name": "stdout",
          "text": [
            "+-----+----------------+-----------------+\n",
            "|Index| Height(Inches)\"| \"Weight(Pounds)\"|\n",
            "+-----+----------------+-----------------+\n",
            "|    1|           65.78|           112.99|\n",
            "|    2|           71.52|           136.49|\n",
            "|    3|            69.4|           153.03|\n",
            "|    4|           68.22|           142.34|\n",
            "|    5|           67.79|            144.3|\n",
            "+-----+----------------+-----------------+\n",
            "only showing top 5 rows\n",
            "\n",
            "root\n",
            " |-- Index: integer (nullable = true)\n",
            " |--  Height(Inches)\": double (nullable = true)\n",
            " |--  \"Weight(Pounds)\": double (nullable = true)\n",
            "\n",
            "Total rows: 200\n"
          ]
        }
      ]
    }
  ]
}